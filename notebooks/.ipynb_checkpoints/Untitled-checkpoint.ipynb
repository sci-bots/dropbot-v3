{
 "cells": [
  {
   "cell_type": "code",
   "execution_count": 5,
   "id": "59eec5fb-60a6-4bb5-ad95-624064aabaff",
   "metadata": {},
   "outputs": [],
   "source": [
    "import openpyxl as pyxl\n",
    "from kifield.common import *\n",
    "from kifield.kifield import *\n",
    "\n",
    "def test_groups2():\n",
    "    wb = pyxl.Workbook()\n",
    "    ws = wb.active\n",
    "    header = (\"Ref\", \"x\", \"y\", \"z\")\n",
    "    ws.append(header)\n",
    "    ws.append((\"C1\", \"1\", \"1\", \"1\"))\n",
    "    ws.append((\"R3\", \"2\", \"1\", \"1\"))\n",
    "    ws.append((\"R5\", \"2\", \"1\", \"1\"))\n",
    "    ws.append((\"X1\", \"3\", \"1\", \"1\"))\n",
    "    ws.append((\"X2\", \"1\", \"3\", \"1\"))\n",
    "    ws.append((\"X3\", \"1\", \"1\", \"3\"))\n",
    "\n",
    "    wb = group_wb(wb)\n",
    "    ws = wb.active\n",
    "\n",
    "    assert ws.max_row == 6\n",
    "    assert ws.max_column == 4\n",
    "\n",
    "    values = tuple(ws.values)\n",
    "    assert values[0] == header\n",
    "    assert values[1] == (\"C1\", \"1\", \"1\", \"1\")\n",
    "    assert values[2] == (\"R3, R5\", \"2\", \"1\", \"1\")\n",
    "    assert values[3] == (\"X1\", \"3\", \"1\", \"1\")\n",
    "    assert values[4] == (\"X2\", \"1\", \"3\", \"1\")\n",
    "    assert values[5] == (\"X3\", \"1\", \"1\", \"3\")"
   ]
  },
  {
   "cell_type": "code",
   "execution_count": 6,
   "id": "0b741e4b-3711-4acb-addb-5c5870bc2f6c",
   "metadata": {},
   "outputs": [
    {
     "ename": "AssertionError",
     "evalue": "",
     "output_type": "error",
     "traceback": [
      "\u001b[1;31m---------------------------------------------------------------------------\u001b[0m",
      "\u001b[1;31mAssertionError\u001b[0m                            Traceback (most recent call last)",
      "\u001b[1;32m~\\AppData\\Local\\Temp/ipykernel_21496/894956542.py\u001b[0m in \u001b[0;36m<module>\u001b[1;34m\u001b[0m\n\u001b[1;32m----> 1\u001b[1;33m \u001b[0mtest_groups2\u001b[0m\u001b[1;33m(\u001b[0m\u001b[1;33m)\u001b[0m\u001b[1;33m\u001b[0m\u001b[1;33m\u001b[0m\u001b[0m\n\u001b[0m",
      "\u001b[1;32m~\\AppData\\Local\\Temp/ipykernel_21496/2934266094.py\u001b[0m in \u001b[0;36mtest_groups2\u001b[1;34m()\u001b[0m\n\u001b[0;32m     19\u001b[0m \u001b[1;33m\u001b[0m\u001b[0m\n\u001b[0;32m     20\u001b[0m     \u001b[1;32massert\u001b[0m \u001b[0mws\u001b[0m\u001b[1;33m.\u001b[0m\u001b[0mmax_row\u001b[0m \u001b[1;33m==\u001b[0m \u001b[1;36m6\u001b[0m\u001b[1;33m\u001b[0m\u001b[1;33m\u001b[0m\u001b[0m\n\u001b[1;32m---> 21\u001b[1;33m     \u001b[1;32massert\u001b[0m \u001b[0mws\u001b[0m\u001b[1;33m.\u001b[0m\u001b[0mmax_column\u001b[0m \u001b[1;33m==\u001b[0m \u001b[1;36m4\u001b[0m\u001b[1;33m\u001b[0m\u001b[1;33m\u001b[0m\u001b[0m\n\u001b[0m\u001b[0;32m     22\u001b[0m \u001b[1;33m\u001b[0m\u001b[0m\n\u001b[0;32m     23\u001b[0m     \u001b[0mvalues\u001b[0m \u001b[1;33m=\u001b[0m \u001b[0mtuple\u001b[0m\u001b[1;33m(\u001b[0m\u001b[0mws\u001b[0m\u001b[1;33m.\u001b[0m\u001b[0mvalues\u001b[0m\u001b[1;33m)\u001b[0m\u001b[1;33m\u001b[0m\u001b[1;33m\u001b[0m\u001b[0m\n",
      "\u001b[1;31mAssertionError\u001b[0m: "
     ]
    }
   ],
   "source": [
    "test_groups2()"
   ]
  },
  {
   "cell_type": "code",
   "execution_count": 12,
   "id": "0e8cc1c1-399e-476c-883e-e403052eacb6",
   "metadata": {},
   "outputs": [
    {
     "ename": "AssertionError",
     "evalue": "",
     "output_type": "error",
     "traceback": [
      "\u001b[1;31m---------------------------------------------------------------------------\u001b[0m",
      "\u001b[1;31mAssertionError\u001b[0m                            Traceback (most recent call last)",
      "\u001b[1;32m~\\AppData\\Local\\Temp/ipykernel_21496/1713250370.py\u001b[0m in \u001b[0;36m<module>\u001b[1;34m\u001b[0m\n\u001b[0;32m     14\u001b[0m \u001b[1;33m\u001b[0m\u001b[0m\n\u001b[0;32m     15\u001b[0m \u001b[1;32massert\u001b[0m \u001b[0mws\u001b[0m\u001b[1;33m.\u001b[0m\u001b[0mmax_row\u001b[0m \u001b[1;33m==\u001b[0m \u001b[1;36m6\u001b[0m\u001b[1;33m\u001b[0m\u001b[1;33m\u001b[0m\u001b[0m\n\u001b[1;32m---> 16\u001b[1;33m \u001b[1;32massert\u001b[0m \u001b[0mws\u001b[0m\u001b[1;33m.\u001b[0m\u001b[0mmax_column\u001b[0m \u001b[1;33m==\u001b[0m \u001b[1;36m4\u001b[0m\u001b[1;33m\u001b[0m\u001b[1;33m\u001b[0m\u001b[0m\n\u001b[0m",
      "\u001b[1;31mAssertionError\u001b[0m: "
     ]
    }
   ],
   "source": [
    "wb = pyxl.Workbook()\n",
    "ws = wb.active\n",
    "header = (\"Ref\", \"x\", \"y\", \"z\")\n",
    "ws.append(header)\n",
    "ws.append((\"C1\", \"1\", \"1\", \"1\"))\n",
    "ws.append((\"R3\", \"2\", \"1\", \"1\"))\n",
    "ws.append((\"R5\", \"2\", \"1\", \"1\"))\n",
    "ws.append((\"X1\", \"3\", \"1\", \"1\"))\n",
    "ws.append((\"X2\", \"1\", \"3\", \"1\"))\n",
    "ws.append((\"X3\", \"1\", \"1\", \"3\"))\n",
    "\n",
    "wb = group_wb(wb)\n",
    "ws = wb.active\n",
    "\n",
    "assert ws.max_row == 6\n",
    "assert ws.max_column == 4\n"
   ]
  },
  {
   "cell_type": "code",
   "execution_count": 13,
   "id": "bd9f777a-eb9d-40e8-b05f-f8fa5551a11f",
   "metadata": {},
   "outputs": [
    {
     "data": {
      "text/plain": [
       "(('Ref', 'quantity', 'x', 'y', 'z'),\n",
       " ('C1', 1, '1', '1', '1'),\n",
       " ('R3, R5', 2, '2', '1', '1'),\n",
       " ('X1', 1, '3', '1', '1'),\n",
       " ('X2', 1, '1', '3', '1'),\n",
       " ('X3', 1, '1', '1', '3'))"
      ]
     },
     "execution_count": 13,
     "metadata": {},
     "output_type": "execute_result"
    }
   ],
   "source": [
    "tuple(ws.values)"
   ]
  }
 ],
 "metadata": {
  "kernelspec": {
   "display_name": "Python 3 (ipykernel)",
   "language": "python",
   "name": "python3"
  },
  "language_info": {
   "codemirror_mode": {
    "name": "ipython",
    "version": 3
   },
   "file_extension": ".py",
   "mimetype": "text/x-python",
   "name": "python",
   "nbconvert_exporter": "python",
   "pygments_lexer": "ipython3",
   "version": "3.9.4"
  }
 },
 "nbformat": 4,
 "nbformat_minor": 5
}
