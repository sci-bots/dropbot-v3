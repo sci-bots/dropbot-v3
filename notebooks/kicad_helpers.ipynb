{
 "cells": [
  {
   "cell_type": "markdown",
   "id": "408bb714-dc57-4b9c-9eb8-f67c4eacb8fe",
   "metadata": {},
   "source": [
    "# Test status\n",
    "\n",
    "Control board: [![tests](https://github.com/sci-bots/dropbot-control-board.kicad/actions/workflows/build.yml/badge.svg)](https://github.com/sci-bots/dropbot-control-board.kicad/actions/workflows/build.yml)\n",
    "[![kitspace](https://img.shields.io/website?down_color=red&down_message=no&label=kitspace&up_color=sucess&up_message=ok&url=https%3A%2F%2Fkitspace.org%2Fboards%2Fgithub.com%2Fsci-bots%2Fdropbot-control-board.kicad)](https://kitspace.org/boards/github.com/sci-bots/dropbot-control-board.kicad)  \n",
    "Front panel: [![tests](https://github.com/sci-bots/dropbot-front-panel.kicad/actions/workflows/build.yml/badge.svg)](https://github.com/sci-bots/dropbot-front-panel.kicad/actions/workflows/build.yml)\n",
    "[![kitspace](https://img.shields.io/website?down_color=red&down_message=no&label=kitspace&up_color=sucess&up_message=ok&url=https%3A%2F%2Fkitspace.org%2Fboards%2Fgithub.com%2Fsci-bots%2Fdropbot-front-panel.kicad)](https://kitspace.org/boards/github.com/sci-bots/dropbot-front-panel.kicad)  \n",
    "Switching board: [![tests](https://github.com/sci-bots/dropbot-40-channel-HV-switching-board.kicad/actions/workflows/build.yml/badge.svg)](https://github.com/sci-bots/dropbot-40-channel-HV-switching-board.kicad/actions/workflows/build.yml)\n",
    "[![kitspace](https://img.shields.io/website?down_color=red&down_message=no&label=kitspace&up_color=sucess&up_message=ok&url=https%3A%2F%2Fkitspace.org%2Fboards%2Fgithub.com%2Fsci-bots%2Fdropbot-40-channel-HV-switching-board.kicad)](https://kitspace.org/boards/github.com/sci-bots/dropbot-40-channel-HV-switching-board.kicad)  \n",
    "Pogo-pin board: [![tests](https://github.com/sci-bots/dropbot-120-channel-pogo-pin-board.kicad/actions/workflows/build.yml/badge.svg)](https://github.com/sci-bots/dropbot-120-channel-pogo-pin-board.kicad/actions/workflows/build.yml)\n",
    "[![kitspace](https://img.shields.io/website?down_color=red&down_message=no&label=kitspace&up_color=sucess&up_message=ok&url=https%3A%2F%2Fkitspace.org%2Fboards%2Fgithub.com%2Fsci-bots%2Fdropbot-120-channel-pogo-pin-board.kicad)](https://kitspace.org/boards/github.com/sci-bots/dropbot-120-channel-pogo-pin-board.kicad)  \n",
    "Test board: [![tests](https://github.com/sci-bots/dropbot-120-channel-test-board.kicad/actions/workflows/build.yml/badge.svg)](https://github.com/sci-bots/dropbot-120-channel-test-board.kicad/actions/workflows/build.yml)\n",
    "[![kitspace](https://img.shields.io/website?down_color=red&down_message=no&label=kitspace&up_color=sucess&up_message=ok&url=https%3A%2F%2Fkitspace.org%2Fboards%2Fgithub.com%2Fsci-bots%2Fdropbot-120-channel-test-board.kicad)](https://kitspace.org/boards/github.com/sci-bots/dropbot-120-channel-test-board.kicad)  "
   ]
  },
  {
   "cell_type": "code",
   "execution_count": null,
   "id": "0c3bbee8-5b5c-48b3-9ebf-9a8e2e47af8e",
   "metadata": {},
   "outputs": [],
   "source": [
    "import os\n",
    "import subprocess\n",
    "\n",
    "def get_boards():\n",
    "    boards = []\n",
    "    hardware_path = os.path.join(\"..\", \"hardware\")\n",
    "    for name in os.listdir(hardware_path):\n",
    "        if os.path.isdir(os.path.join(hardware_path, name)):\n",
    "            boards.append(os.path.join(hardware_path, name))\n",
    "    return boards"
   ]
  },
  {
   "cell_type": "code",
   "execution_count": null,
   "id": "ce4f8036-5e6c-4a8f-959d-e2992dd48c67",
   "metadata": {},
   "outputs": [],
   "source": [
    "print(\"Run kh_test on all boards\")\n",
    "for board in get_boards():\n",
    "    print(board)\n",
    "    print(subprocess.check_output(f\"kh_test --root { board }\", shell=True).decode(\"utf-8\"))"
   ]
  }
 ],
 "metadata": {
  "kernelspec": {
   "display_name": "Python 3 (ipykernel)",
   "language": "python",
   "name": "python3"
  },
  "language_info": {
   "codemirror_mode": {
    "name": "ipython",
    "version": 3
   },
   "file_extension": ".py",
   "mimetype": "text/x-python",
   "name": "python",
   "nbconvert_exporter": "python",
   "pygments_lexer": "ipython3",
   "version": "3.9.7"
  }
 },
 "nbformat": 4,
 "nbformat_minor": 5
}
