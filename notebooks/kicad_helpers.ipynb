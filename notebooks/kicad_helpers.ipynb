{
 "cells": [
  {
   "cell_type": "code",
   "execution_count": 6,
   "id": "31368be7-0919-48f9-9e9c-0a3b646293c2",
   "metadata": {},
   "outputs": [],
   "source": [
    "import os\n",
    "import subprocess\n",
    "\n",
    "def get_boards():\n",
    "    boards = []\n",
    "    hardware_path = os.path.join(\"..\", \"hardware\")\n",
    "    for name in os.listdir(hardware_path):\n",
    "        if os.path.isdir(os.path.join(hardware_path, name)):\n",
    "            boards.append(os.path.join(hardware_path, name))\n",
    "    return boards"
   ]
  },
  {
   "cell_type": "code",
   "execution_count": 7,
   "id": "de50b662-90fe-40f5-bc6d-0a7cad93852d",
   "metadata": {},
   "outputs": [
    {
     "name": "stdout",
     "output_type": "stream",
     "text": [
      "Run kh_update on all boards\n",
      "../hardware/120-channel-pogo-pin-board\n",
      "../hardware/40-channel-HV-switching-board\n",
      "../hardware/control-board\n",
      "../hardware/front-panel\n",
      "../hardware/test-board\n"
     ]
    }
   ],
   "source": [
    "print(\"Run kh_update on all boards\")\n",
    "for board in get_boards():\n",
    "    print(board)\n",
    "    subprocess.check_output(f\"kh_update --v --overwrite --root { board }\", shell=True)"
   ]
  },
  {
   "cell_type": "code",
   "execution_count": 5,
   "id": "ce4f8036-5e6c-4a8f-959d-e2992dd48c67",
   "metadata": {},
   "outputs": [
    {
     "name": "stdout",
     "output_type": "stream",
     "text": [
      "Run kh_test on all boards\n",
      "../hardware/120-channel-pogo-pin-board\n",
      "testing /mnt/c/Users/ryan/OneDrive/dev/python/sci-bots-manufacturing/products/dropbot-v3/notebooks/../hardware/120-channel-pogo-pin-board/tests/tests.ipynb\n",
      "All tests are passing!\n",
      "\n",
      "../hardware/40-channel-HV-switching-board\n",
      "testing /mnt/c/Users/ryan/OneDrive/dev/python/sci-bots-manufacturing/products/dropbot-v3/notebooks/../hardware/40-channel-HV-switching-board/tests/tests.ipynb\n",
      "All tests are passing!\n",
      "\n",
      "../hardware/control-board\n",
      "testing /mnt/c/Users/ryan/OneDrive/dev/python/sci-bots-manufacturing/products/dropbot-v3/notebooks/../hardware/control-board/tests/tests.ipynb\n",
      "All tests are passing!\n",
      "\n",
      "../hardware/front-panel\n",
      "testing /mnt/c/Users/ryan/OneDrive/dev/python/sci-bots-manufacturing/products/dropbot-v3/notebooks/../hardware/front-panel/tests/tests.ipynb\n",
      "All tests are passing!\n",
      "\n",
      "../hardware/test-board\n",
      "testing /mnt/c/Users/ryan/OneDrive/dev/python/sci-bots-manufacturing/products/dropbot-v3/notebooks/../hardware/test-board/tests/tests.ipynb\n",
      "All tests are passing!\n",
      "\n"
     ]
    }
   ],
   "source": [
    "print(\"Run kh_test on all boards\")\n",
    "for board in get_boards():\n",
    "    print(board)\n",
    "    print(subprocess.check_output(f\"kh_test --root { board }\", shell=True).decode(\"utf-8\"))"
   ]
  }
 ],
 "metadata": {
  "kernelspec": {
   "display_name": "Python 3 (ipykernel)",
   "language": "python",
   "name": "python3"
  },
  "language_info": {
   "codemirror_mode": {
    "name": "ipython",
    "version": 3
   },
   "file_extension": ".py",
   "mimetype": "text/x-python",
   "name": "python",
   "nbconvert_exporter": "python",
   "pygments_lexer": "ipython3",
   "version": "3.9.7"
  }
 },
 "nbformat": 4,
 "nbformat_minor": 5
}
